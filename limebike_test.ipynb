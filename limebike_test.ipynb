{
 "cells": [
  {
   "cell_type": "code",
   "execution_count": 1,
   "metadata": {
    "collapsed": true
   },
   "outputs": [],
   "source": [
    "import sys, os\n",
    "import requests\n",
    "from geojson import Feature, Point, FeatureCollection\n",
    "import pandas as pd\n",
    "from location_geojson import create_feature_collection\n",
    "from location_geojson import output_geojson"
   ]
  },
  {
   "cell_type": "code",
   "execution_count": 4,
   "metadata": {},
   "outputs": [
    {
     "name": "stdout",
     "output_type": "stream",
     "text": [
      "\u001b[34mVoting_Districts_of_King_County__votdst_area\u001b[m\u001b[m/\r\n",
      "\u001b[34m__pycache__\u001b[m\u001b[m/\r\n",
      "limebike_test.ipynb\r\n",
      "limebike_test1\r\n",
      "limebike_test2\r\n",
      "limetest.geojson\r\n",
      "limetest_v2.geojson\r\n",
      "limetest_v3.geojson\r\n",
      "location_geojson.py\r\n",
      "seattle_point_grid.csv\r\n"
     ]
    }
   ],
   "source": [
    "ls"
   ]
  },
  {
   "cell_type": "code",
   "execution_count": 5,
   "metadata": {
    "collapsed": true
   },
   "outputs": [],
   "source": [
    "df = pd.read_csv('seattle_point_grid.csv')"
   ]
  },
  {
   "cell_type": "code",
   "execution_count": 7,
   "metadata": {},
   "outputs": [
    {
     "data": {
      "text/html": [
       "<div>\n",
       "<style scoped>\n",
       "    .dataframe tbody tr th:only-of-type {\n",
       "        vertical-align: middle;\n",
       "    }\n",
       "\n",
       "    .dataframe tbody tr th {\n",
       "        vertical-align: top;\n",
       "    }\n",
       "\n",
       "    .dataframe thead th {\n",
       "        text-align: right;\n",
       "    }\n",
       "</style>\n",
       "<table border=\"1\" class=\"dataframe\">\n",
       "  <thead>\n",
       "    <tr style=\"text-align: right;\">\n",
       "      <th></th>\n",
       "      <th>id</th>\n",
       "      <th>xcoord_1</th>\n",
       "      <th>ycoord_1</th>\n",
       "    </tr>\n",
       "  </thead>\n",
       "  <tbody>\n",
       "    <tr>\n",
       "      <th>0</th>\n",
       "      <td>88</td>\n",
       "      <td>-122.37333</td>\n",
       "      <td>47.71312</td>\n",
       "    </tr>\n",
       "    <tr>\n",
       "      <th>1</th>\n",
       "      <td>89</td>\n",
       "      <td>-122.35725</td>\n",
       "      <td>47.71333</td>\n",
       "    </tr>\n",
       "    <tr>\n",
       "      <th>2</th>\n",
       "      <td>90</td>\n",
       "      <td>-122.34117</td>\n",
       "      <td>47.71355</td>\n",
       "    </tr>\n",
       "    <tr>\n",
       "      <th>3</th>\n",
       "      <td>91</td>\n",
       "      <td>-122.32509</td>\n",
       "      <td>47.71376</td>\n",
       "    </tr>\n",
       "    <tr>\n",
       "      <th>4</th>\n",
       "      <td>92</td>\n",
       "      <td>-122.30900</td>\n",
       "      <td>47.71397</td>\n",
       "    </tr>\n",
       "  </tbody>\n",
       "</table>\n",
       "</div>"
      ],
      "text/plain": [
       "   id   xcoord_1  ycoord_1\n",
       "0  88 -122.37333  47.71312\n",
       "1  89 -122.35725  47.71333\n",
       "2  90 -122.34117  47.71355\n",
       "3  91 -122.32509  47.71376\n",
       "4  92 -122.30900  47.71397"
      ]
     },
     "execution_count": 7,
     "metadata": {},
     "output_type": "execute_result"
    }
   ],
   "source": [
    "df.head()"
   ]
  },
  {
   "cell_type": "code",
   "execution_count": 9,
   "metadata": {
    "collapsed": true
   },
   "outputs": [],
   "source": [
    "long_arr = df['xcoord_1'].values\n",
    "lat_arr = df['ycoord_1'].values"
   ]
  },
  {
   "cell_type": "code",
   "execution_count": 18,
   "metadata": {},
   "outputs": [
    {
     "data": {
      "text/plain": [
       "array([-122.37333, -122.35725, -122.34117, -122.32509, -122.309  ,\n",
       "       -122.29292, -122.38909, -122.37301, -122.35693, -122.34085,\n",
       "       -122.32477, -122.30869, -122.29261, -122.27653, -122.38877,\n",
       "       -122.37269, -122.35661, -122.34054, -122.32446, -122.30839,\n",
       "       -122.29231, -122.27623, -122.40451, -122.38844, -122.37237,\n",
       "       -122.3563 , -122.34022, -122.32415, -122.30808, -122.292  ,\n",
       "       -122.27593, -122.25986, -122.40419, -122.38812, -122.37205,\n",
       "       -122.35598, -122.33991, -122.32384, -122.30777, -122.2917 ,\n",
       "       -122.27563, -122.25956, -122.41992, -122.40386, -122.38779,\n",
       "       -122.35566, -122.33959, -122.32353, -122.30746, -122.2914 ])"
      ]
     },
     "execution_count": 18,
     "metadata": {},
     "output_type": "execute_result"
    }
   ],
   "source": [
    "long_arr[:50]"
   ]
  },
  {
   "cell_type": "code",
   "execution_count": 19,
   "metadata": {
    "collapsed": true
   },
   "outputs": [],
   "source": [
    "user_lat_long = []\n",
    "for lat, long in zip(lat_arr[:20],long_arr[:20]):\n",
    "    user_lat_long.append((lat,long))\n",
    "    "
   ]
  },
  {
   "cell_type": "code",
   "execution_count": 20,
   "metadata": {},
   "outputs": [
    {
     "data": {
      "text/plain": [
       "20"
      ]
     },
     "execution_count": 20,
     "metadata": {},
     "output_type": "execute_result"
    }
   ],
   "source": [
    "len(user_lat_long)"
   ]
  },
  {
   "cell_type": "code",
   "execution_count": 23,
   "metadata": {
    "collapsed": true
   },
   "outputs": [],
   "source": [
    "user_lat_long = [(47.618551, -122.342190), (47.611179, -122.334326)]"
   ]
  },
  {
   "cell_type": "code",
   "execution_count": 24,
   "metadata": {
    "scrolled": true
   },
   "outputs": [],
   "source": [
    "feature_collection = create_feature_collection(user_lat_long)"
   ]
  },
  {
   "cell_type": "code",
   "execution_count": null,
   "metadata": {
    "collapsed": true
   },
   "outputs": [],
   "source": []
  },
  {
   "cell_type": "code",
   "execution_count": 25,
   "metadata": {
    "collapsed": true
   },
   "outputs": [],
   "source": [
    "output_geojson('limebike_test_2', feature_collection)"
   ]
  },
  {
   "cell_type": "code",
   "execution_count": null,
   "metadata": {
    "collapsed": true
   },
   "outputs": [],
   "source": []
  }
 ],
 "metadata": {
  "kernelspec": {
   "display_name": "Python 3",
   "language": "python",
   "name": "python3"
  },
  "language_info": {
   "codemirror_mode": {
    "name": "ipython",
    "version": 3
   },
   "file_extension": ".py",
   "mimetype": "text/x-python",
   "name": "python",
   "nbconvert_exporter": "python",
   "pygments_lexer": "ipython3",
   "version": "3.6.3"
  }
 },
 "nbformat": 4,
 "nbformat_minor": 2
}
